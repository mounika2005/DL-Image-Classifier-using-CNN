{
  "nbformat": 4,
  "nbformat_minor": 0,
  "metadata": {
    "colab": {
      "provenance": []
    },
    "kernelspec": {
      "name": "python3",
      "display_name": "Python 3"
    },
    "language_info": {
      "name": "python"
    }
  },
  "cells": [
    {
      "cell_type": "code",
      "execution_count": 3,
      "metadata": {
        "id": "ZZ4VKVhK2PQF"
      },
      "outputs": [],
      "source": [
        "import torch\n",
        "import torch.nn as nn\n",
        "import torch.nn.functional as F\n",
        "from torch.utils.data import DataLoader\n",
        "from torchvision import datasets, transforms\n",
        "\n",
        "import numpy as np\n",
        "import pandas as pd\n",
        "from sklearn.metrics import confusion_matrix\n",
        "import matplotlib.pyplot as plt\n",
        "%matplotlib inline"
      ]
    },
    {
      "cell_type": "code",
      "source": [
        "###levaku lakshmi mounika\n",
        "###212223100026"
      ],
      "metadata": {
        "id": "52HUr3ZYzZ8Z"
      },
      "execution_count": null,
      "outputs": []
    },
    {
      "cell_type": "code",
      "source": [
        "\n",
        "transform = transforms.ToTensor()"
      ],
      "metadata": {
        "id": "kWi8fN_E4qOM"
      },
      "execution_count": 4,
      "outputs": []
    },
    {
      "cell_type": "code",
      "source": [
        "\n",
        "train_data = datasets.MNIST(root='../Data', train=True, download=True, transform=transform)"
      ],
      "metadata": {
        "id": "l3JRtKdk28Jk",
        "colab": {
          "base_uri": "https://localhost:8080/"
        },
        "outputId": "66c8da9d-645c-4ae6-b1de-c7dee04a2b39"
      },
      "execution_count": 5,
      "outputs": [
        {
          "output_type": "stream",
          "name": "stderr",
          "text": [
            "100%|██████████| 9.91M/9.91M [00:00<00:00, 38.2MB/s]\n",
            "100%|██████████| 28.9k/28.9k [00:00<00:00, 935kB/s]\n",
            "100%|██████████| 1.65M/1.65M [00:00<00:00, 10.6MB/s]\n",
            "100%|██████████| 4.54k/4.54k [00:00<00:00, 4.26MB/s]\n"
          ]
        }
      ]
    },
    {
      "cell_type": "code",
      "source": [
        "test_data = datasets.MNIST(root='../Data', train=False, download=True, transform=transform)\n"
      ],
      "metadata": {
        "id": "BJmCcEzG3nsO"
      },
      "execution_count": 7,
      "outputs": []
    },
    {
      "cell_type": "code",
      "source": [
        "\n",
        "test_data"
      ],
      "metadata": {
        "colab": {
          "base_uri": "https://localhost:8080/"
        },
        "id": "ramh6DTuz5hv",
        "outputId": "1840647a-8463-413a-f7b4-f77aa5bd1d1c"
      },
      "execution_count": 8,
      "outputs": [
        {
          "output_type": "execute_result",
          "data": {
            "text/plain": [
              "Dataset MNIST\n",
              "    Number of datapoints: 10000\n",
              "    Root location: ../Data\n",
              "    Split: Test\n",
              "    StandardTransform\n",
              "Transform: ToTensor()"
            ]
          },
          "metadata": {},
          "execution_count": 8
        }
      ]
    },
    {
      "cell_type": "code",
      "source": [
        "\n",
        "train_loader = DataLoader(train_data, batch_size=10, shuffle=True)\n",
        "test_loader = DataLoader(test_data, batch_size=10, shuffle=False)\n",
        "\n"
      ],
      "metadata": {
        "id": "KuBBsC1U4230"
      },
      "execution_count": 9,
      "outputs": []
    },
    {
      "cell_type": "code",
      "source": [
        "\n",
        "class ConvolutionalNetwork(nn.Module):\n",
        "\n",
        "    def __init__(self):\n",
        "        super().__init__()\n",
        "        self.conv1 = nn.Conv2d(1,6,3,1)\n",
        "        self.conv2 = nn.Conv2d(6,16,3,1)\n",
        "        self.fc1 = nn.Linear(5*5*16,120)\n",
        "        self.fc2 = nn.Linear(120,84)\n",
        "        self.fc3 = nn.Linear(84,10)\n",
        "\n",
        "    def forward(self, X):\n",
        "        X = F.relu(self.conv1(X))\n",
        "        X = F.max_pool2d(X, 2, 2)\n",
        "        X = F.relu(self.conv2(X))\n",
        "        X = F.max_pool2d(X, 2, 2)\n",
        "        X = X.view(-1, 5*5*16)\n",
        "        X = F.relu(self.fc1(X))\n",
        "        X = F.relu(self.fc2(X))\n",
        "        X = self.fc3(X)\n",
        "        return F.log_softmax(X, dim=1)\n"
      ],
      "metadata": {
        "id": "nt05JtWU46Fc"
      },
      "execution_count": 10,
      "outputs": []
    },
    {
      "cell_type": "code",
      "source": [
        "criterion = nn.CrossEntropyLoss()\n",
        "model = ConvolutionalNetwork()\n",
        "optimizer = torch.optim.Adam(model.parameters(), lr=0.001)"
      ],
      "metadata": {
        "id": "tzCKyPlZ49ej"
      },
      "execution_count": 11,
      "outputs": []
    },
    {
      "cell_type": "code",
      "source": [
        "###levaku lakshmi mounika\n",
        "212223100026"
      ],
      "metadata": {
        "id": "iNzTn9_i1V7q"
      },
      "execution_count": null,
      "outputs": []
    },
    {
      "cell_type": "code",
      "source": [
        "import time\n",
        "start_time = time.time()\n",
        "\n",
        "# Variables ( Trackers)\n",
        "epochs = 5\n",
        "train_losses = []\n",
        "test_losses = []\n",
        "train_correct = []\n",
        "test_correct = []\n",
        "\n",
        "# for loop epochs\n",
        "for i in range(epochs):\n",
        "\n",
        "    trn_corr = 0\n",
        "    tst_corr = 0\n",
        "\n",
        "\n",
        "    # Run the training batches\n",
        "    for b, (X_train, y_train) in enumerate(train_loader):\n",
        "        b+=1\n",
        "\n",
        "        # Apply the model\n",
        "        y_pred = model(X_train)  # we not flatten X-train here\n",
        "        loss = criterion(y_pred, y_train)\n",
        "\n",
        "\n",
        "        predicted = torch.max(y_pred.data, 1)[1]\n",
        "        batch_corr = (predicted == y_train).sum()  # Trure 1 / False 0 sum()\n",
        "        trn_corr += batch_corr\n",
        "\n",
        "        # Update parameters\n",
        "        optimizer.zero_grad()\n",
        "        loss.backward()\n",
        "        optimizer.step()\n",
        "\n",
        "        # Print interim results\n",
        "        if b%600 == 0:\n",
        "            print(f'epoch: {i}  batch: {b} loss: {loss.item()}')\n",
        "\n",
        "    train_losses.append(loss)\n",
        "    train_correct.append(trn_corr)\n",
        "\n",
        "    # Run the testing batches\n",
        "    with torch.no_grad():\n",
        "        for b, (X_test, y_test) in enumerate(test_loader):\n",
        "\n",
        "            # Apply the model\n",
        "            y_val = model(X_test)\n",
        "\n",
        "            # Tally the number of correct predictions\n",
        "            predicted = torch.max(y_val.data, 1)[1]\n",
        "            tst_corr += (predicted == y_test).sum()\n",
        "\n",
        "    loss = criterion(y_val, y_test)\n",
        "    test_losses.append(loss)\n",
        "    test_correct.append(tst_corr)\n",
        "\n",
        "current_time = time.time()\n",
        "total = current_time - start_time\n",
        "print(f'Training took {total/60} minutes')"
      ],
      "metadata": {
        "id": "eQf_BCsb5AN6",
        "colab": {
          "base_uri": "https://localhost:8080/"
        },
        "outputId": "abe67176-92f1-4f4a-e324-078bdaf0e815"
      },
      "execution_count": 12,
      "outputs": [
        {
          "output_type": "stream",
          "name": "stdout",
          "text": [
            "epoch: 0  batch: 600 loss: 0.014875715598464012\n",
            "epoch: 0  batch: 1200 loss: 0.21127288043498993\n",
            "epoch: 0  batch: 1800 loss: 0.0034484323114156723\n",
            "epoch: 0  batch: 2400 loss: 0.008431228809058666\n",
            "epoch: 0  batch: 3000 loss: 0.007997458800673485\n",
            "epoch: 0  batch: 3600 loss: 0.05074874684214592\n",
            "epoch: 0  batch: 4200 loss: 0.7243441343307495\n",
            "epoch: 0  batch: 4800 loss: 0.022620342671871185\n",
            "epoch: 0  batch: 5400 loss: 0.001813718699850142\n",
            "epoch: 0  batch: 6000 loss: 0.011934099718928337\n",
            "epoch: 1  batch: 600 loss: 0.08085724711418152\n",
            "epoch: 1  batch: 1200 loss: 0.01670929230749607\n",
            "epoch: 1  batch: 1800 loss: 0.004586414434015751\n",
            "epoch: 1  batch: 2400 loss: 0.07710760831832886\n",
            "epoch: 1  batch: 3000 loss: 0.25064617395401\n",
            "epoch: 1  batch: 3600 loss: 0.43289390206336975\n",
            "epoch: 1  batch: 4200 loss: 0.059084486216306686\n",
            "epoch: 1  batch: 4800 loss: 0.06521143019199371\n",
            "epoch: 1  batch: 5400 loss: 0.0016406687209382653\n",
            "epoch: 1  batch: 6000 loss: 0.0550541952252388\n",
            "epoch: 2  batch: 600 loss: 0.0022097579203546047\n",
            "epoch: 2  batch: 1200 loss: 0.03685816004872322\n",
            "epoch: 2  batch: 1800 loss: 0.009645713493227959\n",
            "epoch: 2  batch: 2400 loss: 0.0007438430329784751\n",
            "epoch: 2  batch: 3000 loss: 0.0002272928541060537\n",
            "epoch: 2  batch: 3600 loss: 0.3156830668449402\n",
            "epoch: 2  batch: 4200 loss: 0.039971426129341125\n",
            "epoch: 2  batch: 4800 loss: 0.05501069501042366\n",
            "epoch: 2  batch: 5400 loss: 0.0012907773489132524\n",
            "epoch: 2  batch: 6000 loss: 0.0011932557681575418\n",
            "epoch: 3  batch: 600 loss: 0.020249567925930023\n",
            "epoch: 3  batch: 1200 loss: 0.00021717084746342152\n",
            "epoch: 3  batch: 1800 loss: 0.00532632227987051\n",
            "epoch: 3  batch: 2400 loss: 0.041498277336359024\n",
            "epoch: 3  batch: 3000 loss: 1.706982402538415e-05\n",
            "epoch: 3  batch: 3600 loss: 0.5148082971572876\n",
            "epoch: 3  batch: 4200 loss: 0.0001929009595187381\n",
            "epoch: 3  batch: 4800 loss: 0.009839213453233242\n",
            "epoch: 3  batch: 5400 loss: 0.00011902876576641575\n",
            "epoch: 3  batch: 6000 loss: 0.0004090568982064724\n",
            "epoch: 4  batch: 600 loss: 0.0048875873908400536\n",
            "epoch: 4  batch: 1200 loss: 0.005731349345296621\n",
            "epoch: 4  batch: 1800 loss: 0.002617448102682829\n",
            "epoch: 4  batch: 2400 loss: 0.4354754388332367\n",
            "epoch: 4  batch: 3000 loss: 0.00026785797672346234\n",
            "epoch: 4  batch: 3600 loss: 0.0017211524536833167\n",
            "epoch: 4  batch: 4200 loss: 0.003041008021682501\n",
            "epoch: 4  batch: 4800 loss: 6.417563417926431e-05\n",
            "epoch: 4  batch: 5400 loss: 0.014356233179569244\n",
            "epoch: 4  batch: 6000 loss: 3.834689050563611e-05\n",
            "Training took 3.380681379636129 minutes\n"
          ]
        }
      ]
    },
    {
      "cell_type": "code",
      "source": [
        "train_losses = [t.detach().numpy() for t in train_losses]\n",
        "test_losses = [t.detach().numpy() for t in test_losses]\n",
        "\n",
        "plt.plot(train_losses, label='training loss')\n",
        "plt.plot(test_losses, label='validation loss')\n",
        "plt.title('Loss at the end of each epoch')\n",
        "plt.legend();\n",
        "plt.show()\n",
        "\n"
      ],
      "metadata": {
        "colab": {
          "base_uri": "https://localhost:8080/",
          "height": 452
        },
        "id": "tF5e1Z8L5D8T",
        "outputId": "763860af-3d9d-4cee-cdd4-258acc96ec7a"
      },
      "execution_count": 13,
      "outputs": [
        {
          "output_type": "display_data",
          "data": {
            "text/plain": [
              "<Figure size 640x480 with 1 Axes>"
            ],
            "image/png": "[encoded data removed]"
          },
          "metadata": {}
        }
      ]
    },
    {
      "cell_type": "code",
      "source": [
        "\n",
        "plt.plot([t/600 for t in train_correct], label='training accuracy')\n",
        "plt.plot([t/100 for t in test_correct], label='validation accuracy')\n",
        "plt.title('Accuracy at the end of each epoch')\n",
        "plt.legend();\n",
        "plt.show()"
      ],
      "metadata": {
        "colab": {
          "base_uri": "https://localhost:8080/",
          "height": 452
        },
        "id": "20z296aX5HDT",
        "outputId": "5235b67f-076b-4f5f-f355-31ee9fdfcafa"
      },
      "execution_count": 14,
      "outputs": [
        {
          "output_type": "display_data",
          "data": {
            "text/plain": [
              "<Figure size 640x480 with 1 Axes>"
            ],
            "image/png": "[encoded data removed]"
          },
          "metadata": {}
        }
      ]
    },
    {
      "cell_type": "code",
      "source": [
        "\n",
        "np.set_printoptions(formatter=dict(int=lambda x: f'{x:4}'))\n",
        "print(np.arange(10).reshape(1,10))\n",
        "print()\n",
        "\n",
        "print(confusion_matrix(predicted.view(-1), y_test.view(-1)))"
      ],
      "metadata": {
        "colab": {
          "base_uri": "https://localhost:8080/"
        },
        "id": "i7ivHFFx5KBx",
        "outputId": "aead2061-8406-4bf4-c4b0-5a2e88c3f030"
      },
      "execution_count": 15,
      "outputs": [
        {
          "output_type": "stream",
          "name": "stdout",
          "text": [
            "[[   0    1    2    3    4    5    6    7    8    9]]\n",
            "\n",
            "[[   1    0    0    0    0    0    0    0    0    0]\n",
            " [   0    1    0    0    0    0    0    0    0    0]\n",
            " [   0    0    1    0    0    0    0    0    0    0]\n",
            " [   0    0    0    1    0    0    0    0    0    0]\n",
            " [   0    0    0    0    1    0    0    0    0    0]\n",
            " [   0    0    0    0    0    1    0    0    0    0]\n",
            " [   0    0    0    0    0    0    1    0    0    0]\n",
            " [   0    0    0    0    0    0    0    1    0    0]\n",
            " [   0    0    0    0    0    0    0    0    1    0]\n",
            " [   0    0    0    0    0    0    0    0    0    1]]\n"
          ]
        }
      ]
    },
    {
      "cell_type": "code",
      "source": [
        "torch.save(model.state_dict(),'levaku lakshmi mounika exp3.pt')"
      ],
      "metadata": {
        "id": "jCMAhb6W5MtY"
      },
      "execution_count": 16,
      "outputs": []
    },
    {
      "cell_type": "code",
      "source": [],
      "metadata": {
        "id": "28exlZiM1Z8E"
      },
      "execution_count": null,
      "outputs": []
    }
  ]
}